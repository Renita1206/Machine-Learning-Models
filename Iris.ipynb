{
  "nbformat": 4,
  "nbformat_minor": 0,
  "metadata": {
    "colab": {
      "name": "Iris.ipynb",
      "provenance": [],
      "collapsed_sections": [],
      "authorship_tag": "ABX9TyMj19j1lL51pD/AwHingYJf",
      "include_colab_link": true
    },
    "kernelspec": {
      "name": "python3",
      "display_name": "Python 3"
    },
    "language_info": {
      "name": "python"
    }
  },
  "cells": [
    {
      "cell_type": "markdown",
      "metadata": {
        "id": "view-in-github",
        "colab_type": "text"
      },
      "source": [
        "<a href=\"https://colab.research.google.com/github/Renita1206/Machine-Learning-Models/blob/main/Iris.ipynb\" target=\"_parent\"><img src=\"https://colab.research.google.com/assets/colab-badge.svg\" alt=\"Open In Colab\"/></a>"
      ]
    },
    {
      "cell_type": "code",
      "metadata": {
        "id": "apK_5mqEXgjz"
      },
      "source": [
        "from sklearn.datasets import load_iris\n",
        "from sklearn.linear_model import LogisticRegression\n",
        "from sklearn.model_selection import train_test_split\n",
        "import joblib\n",
        "import numpy as np"
      ],
      "execution_count": null,
      "outputs": []
    },
    {
      "cell_type": "code",
      "metadata": {
        "id": "-4yPKZqUX_8F"
      },
      "source": [
        "iris = load_iris()\n",
        "X=iris.data\n",
        "y=iris.target\n",
        "X_train,X_test,y_train,y_test =  train_test_split(X,y,test_size=0.3,random_state=42)"
      ],
      "execution_count": null,
      "outputs": []
    },
    {
      "cell_type": "code",
      "metadata": {
        "colab": {
          "base_uri": "https://localhost:8080/"
        },
        "id": "X1HXIpXfYDOG",
        "outputId": "05ff9ada-f12d-4d2c-f714-ac57d81dcbc1"
      },
      "source": [
        "logreg = LogisticRegression()\n",
        "logreg.fit(X_train,y_train)\n",
        "joblib.dump(logreg, 'model.pkl')\n",
        "print(logreg.score(X_train,y_train))\n",
        "columns= list(iris.feature_names)\n",
        "joblib.dump(columns,'columns.pkl')\n",
        "\n",
        "#model=joblib.load(filename) to load model later after downloading with joblib.dump\n",
        "#pred=model.predict(X) => watever to use the loaded model\n"
      ],
      "execution_count": null,
      "outputs": [
        {
          "output_type": "stream",
          "text": [
            "0.9619047619047619\n"
          ],
          "name": "stdout"
        },
        {
          "output_type": "execute_result",
          "data": {
            "text/plain": [
              "['columns.pkl']"
            ]
          },
          "metadata": {
            "tags": []
          },
          "execution_count": 13
        }
      ]
    },
    {
      "cell_type": "code",
      "metadata": {
        "colab": {
          "base_uri": "https://localhost:8080/"
        },
        "id": "CkYtsdNRqHj0",
        "outputId": "c66f86a8-2c26-4314-ae2b-319572e251c8"
      },
      "source": [
        "a=int(input(\"Enter Sepal Length: \"))\n",
        "b=int(input(\"Enter Sepal width: \"))\n",
        "c=int(input(\"Enter Petal Length: \"))\n",
        "d=int(input(\"Enter Petal width: \"))\n",
        "l=[a,b,c,d]\n",
        "print(l)"
      ],
      "execution_count": null,
      "outputs": [
        {
          "output_type": "stream",
          "text": [
            "Enter Sepal Length: 1\n",
            "Enter Sepal width: 1\n",
            "Enter Petal Length: 2\n",
            "Enter Petal width: 4\n",
            "[1, 1, 2, 4]\n"
          ],
          "name": "stdout"
        }
      ]
    },
    {
      "cell_type": "code",
      "metadata": {
        "id": "Fgj30e8AZAIg",
        "colab": {
          "base_uri": "https://localhost:8080/"
        },
        "outputId": "2b979310-a4be-450f-9e51-732a8f799c09"
      },
      "source": [
        "X = np.array([l])\n",
        "p=logreg.predict(X)\n",
        "prediction=iris.target_names[p][0]\n",
        "print(prediction)"
      ],
      "execution_count": null,
      "outputs": [
        {
          "output_type": "stream",
          "text": [
            "setosa\n"
          ],
          "name": "stdout"
        }
      ]
    },
    {
      "cell_type": "code",
      "metadata": {
        "id": "2BZQ2m32p_yD"
      },
      "source": [
        ""
      ],
      "execution_count": null,
      "outputs": []
    }
  ]
}