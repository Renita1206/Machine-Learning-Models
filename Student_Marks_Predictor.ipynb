{
  "nbformat": 4,
  "nbformat_minor": 0,
  "metadata": {
    "colab": {
      "name": "Student Marks Predictor.ipynb",
      "provenance": [],
      "collapsed_sections": [
        "5FxkyLW75XM7",
        "WS5syTc35e0y"
      ],
      "authorship_tag": "ABX9TyPoR1lQOgpEVQ1kCCSmH+Tv",
      "include_colab_link": true
    },
    "kernelspec": {
      "name": "python3",
      "display_name": "Python 3"
    },
    "language_info": {
      "name": "python"
    }
  },
  "cells": [
    {
      "cell_type": "markdown",
      "metadata": {
        "id": "view-in-github",
        "colab_type": "text"
      },
      "source": [
        "<a href=\"https://colab.research.google.com/github/Renita1206/Machine-Learning-Models/blob/main/Student_Marks_Predictor.ipynb\" target=\"_parent\"><img src=\"https://colab.research.google.com/assets/colab-badge.svg\" alt=\"Open In Colab\"/></a>"
      ]
    },
    {
      "cell_type": "markdown",
      "metadata": {
        "id": "DN_H1XgrFmZZ"
      },
      "source": [
        "# ***Student Marks Predictor***\n",
        "---\n",
        "\n",
        "Link for dataset-\n",
        "https://archive.ics.uci.edu/ml/datasets/Student+Performance\n",
        "\n",
        "\n",
        "\n"
      ]
    },
    {
      "cell_type": "markdown",
      "metadata": {
        "id": "5FxkyLW75XM7"
      },
      "source": [
        "# Data Cleaning"
      ]
    },
    {
      "cell_type": "code",
      "metadata": {
        "id": "vsxVoQY52qAT"
      },
      "source": [
        "import pandas as pd\n",
        "import numpy as np\n",
        "import matplotlib.pyplot as plt\n",
        "import seaborn as sns\n",
        "import math\n",
        "from sklearn.metrics import accuracy_score\n",
        "from sklearn.linear_model import LinearRegression \n",
        "from sklearn.model_selection import train_test_split"
      ],
      "execution_count": null,
      "outputs": []
    },
    {
      "cell_type": "code",
      "metadata": {
        "id": "8D65HYFToS2U"
      },
      "source": [
        "data=pd.read_csv(\"/content/student-mat.csv\", sep=\";\")\n",
        "data.head()"
      ],
      "execution_count": null,
      "outputs": []
    },
    {
      "cell_type": "code",
      "metadata": {
        "id": "YW2rcwoC2u62"
      },
      "source": [
        "data=data.drop([\"address\",\"school\",\"Mjob\",\"Fjob\",\"reason\",\"guardian\",],1)\n",
        "data.head()"
      ],
      "execution_count": null,
      "outputs": []
    },
    {
      "cell_type": "code",
      "metadata": {
        "id": "a5a53Fhb4L3T"
      },
      "source": [
        "data=data.replace(to_replace =\"yes\",\n",
        "                 value =1)\n",
        "data=data.replace(to_replace =\"no\",\n",
        "                 value =0)\n",
        "data=data.replace(to_replace =\"F\",\n",
        "                 value =1)\n",
        "data=data.replace(to_replace =\"M\",\n",
        "                 value =0)\n",
        "data=data.replace(to_replace =\"GT3\",\n",
        "                 value =1)\n",
        "data=data.replace(to_replace =\"LE3\",\n",
        "                 value =0)\n",
        "data=data.replace(to_replace =\"T\",\n",
        "                 value =1)\n",
        "data=data.replace(to_replace =\"A\",\n",
        "                 value =0)\n",
        "data.head(10)"
      ],
      "execution_count": null,
      "outputs": []
    },
    {
      "cell_type": "markdown",
      "metadata": {
        "id": "WS5syTc35e0y"
      },
      "source": [
        "# Model Training"
      ]
    },
    {
      "cell_type": "code",
      "metadata": {
        "id": "kXl8WstU8pIz"
      },
      "source": [
        "import pickle"
      ],
      "execution_count": null,
      "outputs": []
    },
    {
      "cell_type": "code",
      "metadata": {
        "id": "EXDTy4gS5kYf"
      },
      "source": [
        "X=data.drop([\"G3\"],1)\n",
        "Y=data[\"G3\"]"
      ],
      "execution_count": null,
      "outputs": []
    },
    {
      "cell_type": "code",
      "metadata": {
        "id": "iVvBzHLl8sZZ"
      },
      "source": [
        "best=0"
      ],
      "execution_count": null,
      "outputs": []
    },
    {
      "cell_type": "code",
      "metadata": {
        "id": "JeKltua76Nln"
      },
      "source": [
        "for i in range(10):\n",
        "  x_train, x_test, y_train, y_test = train_test_split(X,Y,test_size=0.1)\n",
        "  model = LinearRegression()\n",
        "  model.fit(x_train, y_train)\n",
        "  acc=model.score(x_test,y_test)\n",
        "  print(acc)\n",
        "  if acc > best:\n",
        "      best = acc\n",
        "      with open(\"studentgrades.pickle\", \"wb\") as f:\n",
        "        pickle.dump(model, f)"
      ],
      "execution_count": null,
      "outputs": []
    },
    {
      "cell_type": "code",
      "metadata": {
        "id": "GIokdJws7Vn7"
      },
      "source": [
        "print(\"Model Accuracy: \",best)"
      ],
      "execution_count": null,
      "outputs": []
    },
    {
      "cell_type": "markdown",
      "metadata": {
        "id": "lq18tVEN9S1k"
      },
      "source": [
        "# Predicting Values"
      ]
    },
    {
      "cell_type": "code",
      "metadata": {
        "id": "Fx6zppeK9Ofb"
      },
      "source": [
        "p = open(\"studentgrades.pickle\", \"rb\")\n",
        "model = pickle.load(p)"
      ],
      "execution_count": null,
      "outputs": []
    },
    {
      "cell_type": "code",
      "metadata": {
        "id": "KD5LmiEN-kXX"
      },
      "source": [
        "print(x_test.columns)"
      ],
      "execution_count": null,
      "outputs": []
    },
    {
      "cell_type": "code",
      "metadata": {
        "id": "K4n0L6YM_a91"
      },
      "source": [
        "sex=int(input(\"Female? \"))\n",
        "age=int(input(\"Age (15 to 22): \"))\n",
        "famsize=int(input(\"Is family size greater than 3? \"))\n",
        "pstatus=int(input(\"Are parents together? \"))\n",
        "print(\" 0 - none \\n 1 - primary education (4th grade) \\n 2 - 5th to 9th grade \\n 3 - secondary education \\n 4 - higher education\")\n",
        "me=int(input(\"Mother's Education Level (0 to 5): \"))\n",
        "fe=int(input(\"Father's Education Level (0 to 5): \"))\n",
        "print(\" 1 - <15 min. \\n 2 - 15 to 30 min. \\n 3 - 30 min. to 1 hour \\n 4 - >1 hour\")\n",
        "travel=int(input(\"Travel Time: \"))\n",
        "print(\"1 - <2 hours, 2 - 2 to 5 hours, 3 - 5 to 10 hours, or 4 - >10 hours\")\n",
        "stime=int(input(\"Weekly Study time: \")) \n",
        "f=int(input(\"Failures (n if 1<=n<3, else 4): \"))\n",
        "ss=int(input(\"Extra School Support: \"))\n",
        "fs=int(input(\"Family Support: \"))\n",
        "ps=int(input(\"Tuitions? \"))\n",
        "e=int(input(\"Extra-Curriculars? \"))\n",
        "n=int(input(\"Nursery? \"))\n",
        "h=int(input(\"Interested in higher education? \"))\n",
        "i=int(input(\"Internet Access?\"))\n",
        "r=int(input(\"Interested in romantic relationships? \"))\n",
        "fr=int(input(\"Family relations (1 to 5): \"))\n",
        "free=int(input(\"Free time (1 to 5): \"))\n",
        "g=int(input(\"Go out with friends (1 to 5): \"))\n",
        "da=int(input(\"Daily alcohol consumption (1 to 5): \"))\n",
        "wa=int(input(\"Weekly alcohol consumption (1 to 5): \"))\n",
        "health=int(input(\"Health (1 to 5): \"))\n",
        "a=int(input(\"Number of absences (0 to 93): \"))\n",
        "g1=int(input(\"First Internals (%): \"))\n",
        "g2=int(input(\"Second Internals (%): \"))"
      ],
      "execution_count": null,
      "outputs": []
    },
    {
      "cell_type": "code",
      "metadata": {
        "id": "bBH9EL7T9d7e"
      },
      "source": [
        "l=[sex,age,famsize,pstatus,me,fe,travel,stime,f,ss,fs,ps,e,n,h,i,r,fr,free,g,da,wa,health,a,g1//5,g2//5]\n",
        "X = np.array([l])\n",
        "predicted= model.predict(X)\n",
        "result=int(predicted)\n",
        "print(result*5)"
      ],
      "execution_count": null,
      "outputs": []
    },
    {
      "cell_type": "code",
      "metadata": {
        "id": "hHq1pHYCFR3v"
      },
      "source": [
        ""
      ],
      "execution_count": null,
      "outputs": []
    }
  ]
}